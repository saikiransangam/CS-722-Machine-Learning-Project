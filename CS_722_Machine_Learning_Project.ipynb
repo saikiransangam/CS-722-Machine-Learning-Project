{
  "cells": [
    {
      "cell_type": "markdown",
      "source": [
        "# **CS 722 Machine Learning Project**\n",
        "\n",
        "### **Name : Sai Kiran Sangam**\n",
        "\n",
        "### **UIN : 01184212**\n",
        "\n",
        "### **Project Title : Self-training with noisy student improves ImageNet classification.**"
      ],
      "metadata": {
        "id": "3qRi9KQnZdmg"
      }
    },
    {
      "cell_type": "markdown",
      "source": [
        "**Abstract**: Noisy student training, a semi-supervised learning approach. It extends the idea of self-training and distillation with the use of equal-or-larger student models and noise added to the student during learning. Noisy student training achieves 88.4% top-1 accuracy on ImageNet, which is 2.0% better than the state-of-the-art model that requires labeled instagram images. This approach not only surpasses the top1 ImageNet accuracy of SOTA models by 1%, its robustness of a model also improves.\n"
      ],
      "metadata": {
        "id": "UfcStQpTPdG0"
      }
    },
    {
      "cell_type": "markdown",
      "source": [
        "**Introduction** : Deep learning has shown remarkable successes in image recognition in recent years. However state-of -art vision models are still trained with supervised learning which requires a large corpus of labeled images to work well. In this project I'm using unlabeled images to improve the SOTA ImageNet accuracy. Training the model using a self-training framework which has three main steps: Train a teacher model on labeled images, use the teacher to generate pseudo labels on unlabeled images and train a student model on the combination of labeled images and pseudo labeled images. Noisy Student Training seeks to improve on self-training and distillation in two ways. First, it makes the student larger than, or at least equal to, the teacher so the student can better learn from a larger dataset. Second, it adds noise to the student so the noised student is forced to learn harder from the pseudo labels. To noise the student, it uses input noise such as RandAugment data augmentation, and model noise such as dropout and stochastic depth during training.\n",
        "\n"
      ],
      "metadata": {
        "id": "5RHfVnM3P4mf"
      }
    },
    {
      "cell_type": "markdown",
      "source": [
        "## **Self-training with noisy student improves imagenet classification**\n",
        "\n",
        "Noisy Student Training, a semi-supervised learning approach that works well even when labeled data is abundant. Noisy Student Training achieves 88.4% top-1 accuracy on ImageNet, which is 2.0% better than the state-of-the-art model that requires 3.5B weakly labeled Instagram images. On robustness test sets, it improves ImageNet-A top-1 accuracy from 61.0% to 83.7%, reduces ImageNet-C mean corruption error from 45.7 to 28.3, and reduces ImageNet-P mean flip rate from 27.8 to 12.2.\n",
        "\n",
        "Noisy Student Training extends the idea of self-training and distillation with the use of equal-or-larger student models and noise added to the student during learning. On ImageNet, we first train an EfficientNet model on labeled images and use it as a teacher to generate pseudo labels for 300M unlabeled images. We then train a larger EfficientNet as a student model on the combination of labeled and pseudo labeled images. We iterate this process by putting back the student as the teacher. During the learning of the student, we inject noise such as dropout, stochastic depth, and data augmentation via RandAugment to the student so that the student generalizes better than the teacher. \n",
        "\n",
        "Self-training with Noisy Student improves ImageNet classification (https://arxiv.org/pdf/1911.04252.pdf) achives 88.4% on the ImageNet.\n"
      ],
      "metadata": {
        "id": "qrRZc-BEZxqR"
      }
    },
    {
      "cell_type": "markdown",
      "metadata": {
        "id": "Yb0CI6hVZMvQ"
      },
      "source": [
        "# Noisy Student Efficientnet models\n",
        "\n",
        "\n",
        "changes:\n",
        "- uses the efficientnet keras implementation \n",
        "- loading noisy-student models"
      ]
    },
    {
      "cell_type": "code",
      "execution_count": null,
      "metadata": {
        "colab": {
          "base_uri": "https://localhost:8080/"
        },
        "id": "IacAVxV3ZMvR",
        "outputId": "b5e0efa2-5916-49aa-d382-47d548ac7e07"
      },
      "outputs": [
        {
          "output_type": "stream",
          "name": "stdout",
          "text": [
            "Collecting efficientnet\n",
            "  Downloading efficientnet-1.1.1-py3-none-any.whl (18 kB)\n",
            "Requirement already satisfied: scikit-image in /usr/local/lib/python3.7/dist-packages (from efficientnet) (0.18.3)\n",
            "Collecting keras-applications<=1.0.8,>=1.0.7\n",
            "  Downloading Keras_Applications-1.0.8-py3-none-any.whl (50 kB)\n",
            "\u001b[K     |████████████████████████████████| 50 kB 1.5 MB/s \n",
            "\u001b[?25hRequirement already satisfied: h5py in /usr/local/lib/python3.7/dist-packages (from keras-applications<=1.0.8,>=1.0.7->efficientnet) (3.1.0)\n",
            "Requirement already satisfied: numpy>=1.9.1 in /usr/local/lib/python3.7/dist-packages (from keras-applications<=1.0.8,>=1.0.7->efficientnet) (1.19.5)\n",
            "Requirement already satisfied: cached-property in /usr/local/lib/python3.7/dist-packages (from h5py->keras-applications<=1.0.8,>=1.0.7->efficientnet) (1.5.2)\n",
            "Requirement already satisfied: tifffile>=2019.7.26 in /usr/local/lib/python3.7/dist-packages (from scikit-image->efficientnet) (2021.11.2)\n",
            "Requirement already satisfied: PyWavelets>=1.1.1 in /usr/local/lib/python3.7/dist-packages (from scikit-image->efficientnet) (1.2.0)\n",
            "Requirement already satisfied: matplotlib!=3.0.0,>=2.0.0 in /usr/local/lib/python3.7/dist-packages (from scikit-image->efficientnet) (3.2.2)\n",
            "Requirement already satisfied: pillow!=7.1.0,!=7.1.1,>=4.3.0 in /usr/local/lib/python3.7/dist-packages (from scikit-image->efficientnet) (7.1.2)\n",
            "Requirement already satisfied: imageio>=2.3.0 in /usr/local/lib/python3.7/dist-packages (from scikit-image->efficientnet) (2.4.1)\n",
            "Requirement already satisfied: networkx>=2.0 in /usr/local/lib/python3.7/dist-packages (from scikit-image->efficientnet) (2.6.3)\n",
            "Requirement already satisfied: scipy>=1.0.1 in /usr/local/lib/python3.7/dist-packages (from scikit-image->efficientnet) (1.4.1)\n",
            "Requirement already satisfied: kiwisolver>=1.0.1 in /usr/local/lib/python3.7/dist-packages (from matplotlib!=3.0.0,>=2.0.0->scikit-image->efficientnet) (1.3.2)\n",
            "Requirement already satisfied: cycler>=0.10 in /usr/local/lib/python3.7/dist-packages (from matplotlib!=3.0.0,>=2.0.0->scikit-image->efficientnet) (0.11.0)\n",
            "Requirement already satisfied: pyparsing!=2.0.4,!=2.1.2,!=2.1.6,>=2.0.1 in /usr/local/lib/python3.7/dist-packages (from matplotlib!=3.0.0,>=2.0.0->scikit-image->efficientnet) (3.0.6)\n",
            "Requirement already satisfied: python-dateutil>=2.1 in /usr/local/lib/python3.7/dist-packages (from matplotlib!=3.0.0,>=2.0.0->scikit-image->efficientnet) (2.8.2)\n",
            "Requirement already satisfied: six>=1.5 in /usr/local/lib/python3.7/dist-packages (from python-dateutil>=2.1->matplotlib!=3.0.0,>=2.0.0->scikit-image->efficientnet) (1.15.0)\n",
            "Installing collected packages: keras-applications, efficientnet\n",
            "Successfully installed efficientnet-1.1.1 keras-applications-1.0.8\n"
          ]
        }
      ],
      "source": [
        "!pip install efficientnet"
      ]
    },
    {
      "cell_type": "code",
      "execution_count": null,
      "metadata": {
        "id": "Xp3QOjvTZMvT"
      },
      "outputs": [],
      "source": [
        "#import libraries\n",
        "import os\n",
        "import sys\n",
        "import numpy as np\n",
        "from skimage.io import imread\n",
        "import matplotlib.pyplot as plt\n",
        "import glob\n",
        "import shutil\n",
        "sys.path.append('..')\n",
        "from IPython.display import Image\n",
        "\n",
        "User_tfKeras = False"
      ]
    },
    {
      "cell_type": "code",
      "execution_count": null,
      "metadata": {
        "id": "3QLSV8HAZMvT"
      },
      "outputs": [],
      "source": [
        "if User_tfKeras:\n",
        "    from tensorflow.keras import models\n",
        "    from tensorflow.keras import layers\n",
        "    from tensorflow.keras import optimizers\n",
        "\n",
        "    from efficientnet.tfkeras import EfficientNetB6\n",
        "    from efficientnet.tfkeras import EfficientNetL2\n",
        "    from efficientnet.tfkeras import center_crop_and_resize, preprocess_input\n",
        "else:\n",
        "    from keras import models\n",
        "    from keras import layers\n",
        "    from keras import optimizers\n",
        "\n",
        "    from efficientnet.keras import EfficientNetB6\n",
        "    from efficientnet.keras import EfficientNetL2\n",
        "    from efficientnet.keras import center_crop_and_resize, preprocess_input"
      ]
    },
    {
      "cell_type": "code",
      "execution_count": null,
      "metadata": {
        "id": "wlWUpulyZMvU"
      },
      "outputs": [],
      "source": [
        "batch_size = 48\n",
        "\n",
        "width = 150\n",
        "height = 150\n",
        "epochs = 500\n",
        "NUM_TRAIN = 2000\n",
        "NUM_TEST = 1000\n",
        "dropout_rate = 0.2\n",
        "input_shape = (height, width, 3)"
      ]
    },
    {
      "cell_type": "markdown",
      "metadata": {
        "id": "w1EoDYgLZMvV"
      },
      "source": [
        "## Prepare dataset"
      ]
    },
    {
      "cell_type": "code",
      "execution_count": null,
      "metadata": {
        "colab": {
          "base_uri": "https://localhost:8080/"
        },
        "id": "NfJ1EtlvZMvW",
        "outputId": "0ef90a4f-c2bc-457f-9ac8-1dfd3774eb70"
      },
      "outputs": [
        {
          "output_type": "stream",
          "name": "stdout",
          "text": [
            "--2021-12-09 18:14:31--  https://download.microsoft.com/download/3/E/1/3E1C3F21-ECDB-4869-8368-6DEBA77B919F/kagglecatsanddogs_3367a.zip\n",
            "Resolving download.microsoft.com (download.microsoft.com)... 184.27.220.188, 2600:1407:3c00:108c::e59, 2600:1407:3c00:10a2::e59\n",
            "Connecting to download.microsoft.com (download.microsoft.com)|184.27.220.188|:443... connected.\n",
            "HTTP request sent, awaiting response... 200 OK\n",
            "Length: 824894548 (787M) [application/octet-stream]\n",
            "Saving to: ‘kagglecatsanddogs_3367a.zip’\n",
            "\n",
            "kagglecatsanddogs_3 100%[===================>] 786.68M   121MB/s    in 6.4s    \n",
            "\n",
            "2021-12-09 18:14:38 (123 MB/s) - ‘kagglecatsanddogs_3367a.zip’ saved [824894548/824894548]\n",
            "\n"
          ]
        }
      ],
      "source": [
        "#loading dataset\n",
        "if not os.path.isfile(\"kagglecatsanddogs_3367a.zip\"):\n",
        "  !wget https://download.microsoft.com/download/3/E/1/3E1C3F21-ECDB-4869-8368-6DEBA77B919F/kagglecatsanddogs_3367a.zip\n",
        "  !unzip -qq kagglecatsanddogs_3367a.zip -d dog_vs_cat\n",
        "else:\n",
        "  print(\"dataset already exist.\")"
      ]
    },
    {
      "cell_type": "code",
      "execution_count": null,
      "metadata": {
        "colab": {
          "base_uri": "https://localhost:8080/"
        },
        "id": "flCi9Y83ZMvX",
        "outputId": "8fdbb0d2-4648-49f9-aa84-9982b479ee87"
      },
      "outputs": [
        {
          "output_type": "stream",
          "name": "stdout",
          "text": [
            "total cat images: 12500\n",
            "\rtotal dog images: 12500\n"
          ]
        }
      ],
      "source": [
        "# The path to the directory where the original\n",
        "# dataset was uncompressed\n",
        "original_dataset_dir = './dog_vs_cat/PetImages'\n",
        "\n",
        "cat_images = glob.glob(os.path.join(original_dataset_dir, \"Cat\", '*.jpg'))\n",
        "dog_images = glob.glob(os.path.join(original_dataset_dir, \"Dog\", '*.jpg'))\n",
        "print(\"total cat images: {}\\n\\rtotal dog images: {}\".format(len(cat_images), len(dog_images)))"
      ]
    },
    {
      "cell_type": "code",
      "execution_count": null,
      "metadata": {
        "id": "s4CmlN1lZMvY"
      },
      "outputs": [],
      "source": [
        "# The directory where we will\n",
        "# store our smaller dataset\n",
        "base_dir = './data/dog_vs_cat_small'\n",
        "os.makedirs(base_dir, exist_ok=True)\n",
        "\n",
        "# Directories for our training,\n",
        "# validation and test splits\n",
        "train_dir = os.path.join(base_dir, 'train')\n",
        "os.makedirs(train_dir, exist_ok=True)\n",
        "validation_dir = os.path.join(base_dir, 'validation')\n",
        "os.makedirs(validation_dir, exist_ok=True)\n",
        "test_dir = os.path.join(base_dir, 'test')\n",
        "os.makedirs(test_dir, exist_ok=True)\n",
        "\n",
        "# Directory with our training cat pictures\n",
        "train_cats_dir = os.path.join(train_dir, 'cats')\n",
        "os.makedirs(train_cats_dir, exist_ok=True)\n",
        "\n",
        "# Directory with our training dog pictures\n",
        "train_dogs_dir = os.path.join(train_dir, 'dogs')\n",
        "os.makedirs(train_dogs_dir, exist_ok=True)\n",
        "\n",
        "# Directory with our validation cat pictures\n",
        "validation_cats_dir = os.path.join(validation_dir, 'cats')\n",
        "os.makedirs(validation_cats_dir, exist_ok=True)\n",
        "\n",
        "# Directory with our validation dog pictures\n",
        "validation_dogs_dir = os.path.join(validation_dir, 'dogs')\n",
        "os.makedirs(validation_dogs_dir, exist_ok=True)\n",
        "\n",
        "# Directory with our validation cat pictures\n",
        "test_cats_dir = os.path.join(test_dir, 'cats')\n",
        "os.makedirs(test_cats_dir, exist_ok=True)\n",
        "\n",
        "# Directory with our validation dog pictures\n",
        "test_dogs_dir = os.path.join(test_dir, 'dogs')\n",
        "os.makedirs(test_dogs_dir, exist_ok=True)\n",
        "\n",
        "# Copy first NUM_TRAIN//2 cat images to train_cats_dir\n",
        "fnames = cat_images[:NUM_TRAIN//2]\n",
        "for fname in fnames:\n",
        "    dst = os.path.join(train_cats_dir, os.path.basename(fname))\n",
        "    shutil.copyfile(fname, dst)\n",
        "\n",
        "offset = NUM_TRAIN//2\n",
        "# Copy next NUM_TEST //2 cat images to validation_cats_dir\n",
        "fnames = cat_images[offset:offset + NUM_TEST // 2]\n",
        "for fname in fnames:\n",
        "    dst = os.path.join(validation_cats_dir, os.path.basename(fname))\n",
        "    shutil.copyfile(fname, dst)\n",
        "offset = offset + NUM_TEST // 2\n",
        "# Copy next NUM_TRAIN//2 cat images to test_cats_dir\n",
        "fnames = cat_images[offset:offset + NUM_TEST // 2]\n",
        "for fname in fnames:\n",
        "    dst = os.path.join(test_cats_dir, os.path.basename(fname))\n",
        "    shutil.copyfile(fname, dst)\n",
        "\n",
        "\n",
        "# Copy first NUM_TRAIN//2 dog images to train_dogs_dir\n",
        "fnames = dog_images[:NUM_TRAIN//2]\n",
        "for fname in fnames:\n",
        "    dst = os.path.join(train_dogs_dir, os.path.basename(fname))\n",
        "    shutil.copyfile(fname, dst)\n",
        "\n",
        "offset = NUM_TRAIN//2\n",
        "# Copy next NUM_TEST // 2 dog images to validation_dogs_dir\n",
        "fnames = dog_images[offset:offset + NUM_TEST // 2]\n",
        "for fname in fnames:\n",
        "    dst = os.path.join(validation_dogs_dir, os.path.basename(fname))\n",
        "    shutil.copyfile(fname, dst)\n",
        "offset = offset + NUM_TEST // 2\n",
        "\n",
        "# Copy next NUM_TEST // 2 dog images to test_dogs_dir\n",
        "fnames = dog_images[offset:offset + NUM_TEST // 2]\n",
        "for fname in fnames:\n",
        "    dst = os.path.join(test_dogs_dir, os.path.basename(fname))\n",
        "    shutil.copyfile(fname, dst)"
      ]
    },
    {
      "cell_type": "code",
      "execution_count": null,
      "metadata": {
        "colab": {
          "base_uri": "https://localhost:8080/"
        },
        "id": "sLRZCyFvZMvZ",
        "outputId": "c7c066f2-4519-4fc3-8e82-08708613f14e"
      },
      "outputs": [
        {
          "output_type": "stream",
          "name": "stdout",
          "text": [
            "total training cat images: 1000\n",
            "total training dog images: 1000\n",
            "total validation cat images: 500\n",
            "total validation dog images: 500\n",
            "total test cat images: 500\n",
            "total test dog images: 500\n"
          ]
        }
      ],
      "source": [
        "print('total training cat images:', len(os.listdir(train_cats_dir)))\n",
        "print('total training dog images:', len(os.listdir(train_dogs_dir)))\n",
        "print('total validation cat images:', len(os.listdir(validation_cats_dir)))\n",
        "print('total validation dog images:', len(os.listdir(validation_dogs_dir)))\n",
        "print('total test cat images:', len(os.listdir(test_cats_dir)))\n",
        "print('total test dog images:', len(os.listdir(test_dogs_dir)))"
      ]
    },
    {
      "cell_type": "markdown",
      "source": [
        "### **Noisy Student**\n",
        "\n",
        "Noisy student training Labeled images {(x1, y1),(x2, y2), ...,(xn, yn)} and unlabeled images {x˜1, x˜2, ..., x˜m}. \n",
        "1. Learn teacher model ✓ t ∗ which minimizes the cross entropy loss on labeled images 1/n Xn i=1 `(yi, f noised(xi, ✓ t )).\n",
        "2. Use an unnoised teacher model to generate soft or hard pseudo labels for unlabeled images y˜i = f(˜xi, ✓ t ∗), ∀i = 1, ··· , m.\n",
        "3. Learn an equal-or-larger student model ✓ s ∗ which minimizes the cross entropy loss on labeled images and unlabeled images with noise added to the student model 1 n Xn i=1 `(yi, f noised(xi, ✓ s )) + 1 m Xm i=1 `(˜yi, f noised(˜xi, ✓ s )) .\n",
        "4. Iterative training: Use the student as a teacher and go back to step 2.\n"
      ],
      "metadata": {
        "id": "-Nv2oD_oQdDd"
      }
    },
    {
      "cell_type": "markdown",
      "metadata": {
        "id": "jP_px0M6ZMva"
      },
      "source": [
        "## Prepare DataGenerators"
      ]
    },
    {
      "cell_type": "code",
      "execution_count": null,
      "metadata": {
        "colab": {
          "base_uri": "https://localhost:8080/"
        },
        "id": "oyoTvIB0ZMva",
        "outputId": "1e5722c7-1fbf-4a7f-d118-9ae8f4f8f6bb"
      },
      "outputs": [
        {
          "output_type": "stream",
          "name": "stdout",
          "text": [
            "Found 2000 images belonging to 2 classes.\n",
            "Found 1000 images belonging to 2 classes.\n"
          ]
        }
      ],
      "source": [
        "from tensorflow.keras.preprocessing.image import ImageDataGenerator\n",
        "\n",
        "train_datagen = ImageDataGenerator(\n",
        "      rescale=1./255,\n",
        "      rotation_range=40,\n",
        "      width_shift_range=0.2,\n",
        "      height_shift_range=0.2,\n",
        "      shear_range=0.2,\n",
        "      zoom_range=0.2,\n",
        "      horizontal_flip=True,\n",
        "      fill_mode='nearest')\n",
        "\n",
        "# the validation data should not be augmented!\n",
        "test_datagen = ImageDataGenerator(rescale=1./255)\n",
        "\n",
        "train_generator = train_datagen.flow_from_directory(\n",
        "        # This is the target directory\n",
        "        train_dir,\n",
        "        # All images will be resized to target height and width.\n",
        "        target_size=(height, width),\n",
        "        batch_size=batch_size,\n",
        "        # use categorical_crossentropy loss,  need categorical labels\n",
        "        class_mode='categorical')\n",
        "\n",
        "validation_generator = test_datagen.flow_from_directory(\n",
        "        validation_dir,\n",
        "        target_size=(height, width),\n",
        "        batch_size=batch_size,\n",
        "        class_mode='categorical')"
      ]
    },
    {
      "cell_type": "markdown",
      "metadata": {
        "id": "74E0O5m_ZMvb"
      },
      "source": [
        "## Load efficientnet model and add final dense layer\n",
        "The model are loaded with pretrained weights, final dense layer is added for the cat vs. dog."
      ]
    },
    {
      "cell_type": "code",
      "execution_count": null,
      "metadata": {
        "id": "0zr4zBeoZMvb"
      },
      "outputs": [],
      "source": [
        "# loading pretrained model\n",
        "conv_base = EfficientNetB6(weights='../../keras_model/noisy_student_efficientnet-b6-notop.h5',\n",
        "                           include_top=False,\n",
        "                           input_shape=input_shape)"
      ]
    },
    {
      "cell_type": "code",
      "execution_count": null,
      "metadata": {
        "id": "IcLH0cVWZMvb"
      },
      "outputs": [],
      "source": [
        "model = models.Sequential()\n",
        "model.add(conv_base)\n",
        "model.add(layers.GlobalMaxPooling2D(name=\"gap\"))\n",
        "# model.add(layers.Flatten(name=\"flatten\"))\n",
        "if dropout_rate > 0:\n",
        "    model.add(layers.Dropout(dropout_rate, name=\"dropout_out\"))\n",
        "# model.add(layers.Dense(256, activation='relu', name=\"fc1\"))\n",
        "model.add(layers.Dense(2, activation='softmax', name=\"fc_out\"))"
      ]
    },
    {
      "cell_type": "code",
      "execution_count": null,
      "metadata": {
        "id": "cZ2DlTDqZMvb",
        "outputId": "fd5ef1fd-daf0-43dc-8aef-eb088ad95593"
      },
      "outputs": [
        {
          "name": "stdout",
          "output_type": "stream",
          "text": [
            "This is the number of trainable layers before freezing the conv base: 584\n",
            "This is the number of trainable layers after freezing the conv base: 2\n"
          ]
        }
      ],
      "source": [
        "print('This is the number of trainable layers '\n",
        "      'before freezing the conv base:', len(model.trainable_weights))\n",
        "\n",
        "conv_base.trainable = False\n",
        "\n",
        "print('This is the number of trainable layers '\n",
        "      'after freezing the conv base:', len(model.trainable_weights))\n",
        "\n"
      ]
    },
    {
      "cell_type": "markdown",
      "metadata": {
        "id": "nq0lxeydZMvc"
      },
      "source": [
        "## Train model top layer"
      ]
    },
    {
      "cell_type": "code",
      "execution_count": null,
      "metadata": {
        "id": "cXm-OA2EZMvc"
      },
      "outputs": [],
      "source": [
        "model.compile(loss='categorical_crossentropy',\n",
        "              optimizer=optimizers.RMSprop(lr=2e-5),\n",
        "              metrics=['acc'])"
      ]
    },
    {
      "cell_type": "code",
      "execution_count": null,
      "metadata": {
        "scrolled": false,
        "id": "X0QJNUFtZMvc",
        "outputId": "2e5ccb90-b1ee-4658-c601-d944657ca917"
      },
      "outputs": [
        {
          "name": "stdout",
          "output_type": "stream",
          "text": [
            "Epoch 1/500\n",
            "41/41 [==============================] - 25s 617ms/step - loss: 0.8492 - acc: 0.6060 - val_loss: 0.4493 - val_acc: 0.7941\n",
            "Epoch 2/500\n",
            "41/41 [==============================] - 20s 499ms/step - loss: 0.8639 - acc: 0.6072 - val_loss: 0.4192 - val_acc: 0.7920\n",
            "Epoch 3/500\n",
            "41/41 [==============================] - 20s 483ms/step - loss: 0.8804 - acc: 0.5928 - val_loss: 0.4440 - val_acc: 0.7773\n",
            "Epoch 4/500\n",
            "41/41 [==============================] - 21s 523ms/step - loss: 0.8565 - acc: 0.6278 - val_loss: 0.4479 - val_acc: 0.7773\n",
            "Epoch 5/500\n",
            "41/41 [==============================] - 20s 487ms/step - loss: 0.8480 - acc: 0.6204 - val_loss: 0.4475 - val_acc: 0.7815\n",
            "Epoch 6/500\n",
            "41/41 [==============================] - 21s 524ms/step - loss: 0.8652 - acc: 0.6215 - val_loss: 0.4225 - val_acc: 0.7994\n",
            "Epoch 7/500\n",
            "41/41 [==============================] - 22s 536ms/step - loss: 0.9109 - acc: 0.6032 - val_loss: 0.4290 - val_acc: 0.8015\n",
            "Epoch 8/500\n",
            "41/41 [==============================] - 20s 495ms/step - loss: 0.8943 - acc: 0.6062 - val_loss: 0.4554 - val_acc: 0.7668\n",
            "Epoch 9/500\n",
            "41/41 [==============================] - 20s 486ms/step - loss: 0.8637 - acc: 0.6133 - val_loss: 0.4520 - val_acc: 0.7677\n",
            "Epoch 10/500\n",
            "41/41 [==============================] - 20s 494ms/step - loss: 0.8306 - acc: 0.6108 - val_loss: 0.4407 - val_acc: 0.7920\n",
            "Epoch 11/500\n",
            "41/41 [==============================] - 21s 501ms/step - loss: 0.8086 - acc: 0.6209 - val_loss: 0.4238 - val_acc: 0.8183\n",
            "Epoch 12/500\n",
            "41/41 [==============================] - 20s 497ms/step - loss: 0.8649 - acc: 0.6072 - val_loss: 0.4543 - val_acc: 0.7742\n",
            "Epoch 13/500\n",
            "41/41 [==============================] - 20s 495ms/step - loss: 0.8534 - acc: 0.6186 - val_loss: 0.4240 - val_acc: 0.7899\n",
            "Epoch 14/500\n",
            "41/41 [==============================] - 20s 495ms/step - loss: 0.8073 - acc: 0.6441 - val_loss: 0.4315 - val_acc: 0.7983\n",
            "Epoch 15/500\n",
            "41/41 [==============================] - 23s 568ms/step - loss: 0.8648 - acc: 0.5955 - val_loss: 0.4095 - val_acc: 0.8015\n",
            "Epoch 16/500\n",
            "41/41 [==============================] - 21s 500ms/step - loss: 0.9037 - acc: 0.5912 - val_loss: 0.4585 - val_acc: 0.7847\n",
            "Epoch 17/500\n",
            "41/41 [==============================] - 21s 513ms/step - loss: 0.8411 - acc: 0.6352 - val_loss: 0.4395 - val_acc: 0.7805\n",
            "Epoch 18/500\n",
            "41/41 [==============================] - 23s 556ms/step - loss: 0.8552 - acc: 0.6120 - val_loss: 0.4453 - val_acc: 0.7742\n",
            "Epoch 19/500\n",
            "41/41 [==============================] - 20s 500ms/step - loss: 0.8228 - acc: 0.6286 - val_loss: 0.4343 - val_acc: 0.7847\n",
            "Epoch 20/500\n",
            "41/41 [==============================] - 20s 493ms/step - loss: 0.8915 - acc: 0.6034 - val_loss: 0.4245 - val_acc: 0.7962\n",
            "Epoch 21/500\n",
            "41/41 [==============================] - 20s 493ms/step - loss: 0.8503 - acc: 0.6118 - val_loss: 0.4238 - val_acc: 0.7983\n",
            "Epoch 22/500\n",
            "41/41 [==============================] - 20s 495ms/step - loss: 0.8491 - acc: 0.6011 - val_loss: 0.4403 - val_acc: 0.7794\n",
            "Epoch 23/500\n",
            "41/41 [==============================] - 21s 506ms/step - loss: 0.8543 - acc: 0.6095 - val_loss: 0.4425 - val_acc: 0.7794\n",
            "Epoch 24/500\n",
            "41/41 [==============================] - 20s 491ms/step - loss: 0.8091 - acc: 0.6168 - val_loss: 0.4247 - val_acc: 0.7994\n",
            "Epoch 25/500\n",
            "41/41 [==============================] - 20s 496ms/step - loss: 0.8618 - acc: 0.6126 - val_loss: 0.4188 - val_acc: 0.8256\n",
            "Epoch 26/500\n",
            "41/41 [==============================] - 20s 486ms/step - loss: 0.8695 - acc: 0.5935 - val_loss: 0.4293 - val_acc: 0.8099\n",
            "Epoch 27/500\n",
            "41/41 [==============================] - 20s 489ms/step - loss: 0.8142 - acc: 0.6270 - val_loss: 0.4241 - val_acc: 0.8078\n",
            "Epoch 28/500\n",
            "41/41 [==============================] - 20s 487ms/step - loss: 0.8423 - acc: 0.6182 - val_loss: 0.4380 - val_acc: 0.7826\n",
            "Epoch 29/500\n",
            "41/41 [==============================] - 20s 489ms/step - loss: 0.8693 - acc: 0.6047 - val_loss: 0.4337 - val_acc: 0.7826\n",
            "Epoch 30/500\n",
            "41/41 [==============================] - 22s 538ms/step - loss: 0.8461 - acc: 0.6156 - val_loss: 0.4206 - val_acc: 0.8010\n",
            "Epoch 31/500\n",
            "41/41 [==============================] - 20s 490ms/step - loss: 0.8704 - acc: 0.6011 - val_loss: 0.4237 - val_acc: 0.7910\n",
            "Epoch 32/500\n",
            "41/41 [==============================] - 20s 495ms/step - loss: 0.8673 - acc: 0.5948 - val_loss: 0.4364 - val_acc: 0.7868\n",
            "Epoch 33/500\n",
            "41/41 [==============================] - 20s 491ms/step - loss: 0.8174 - acc: 0.6237 - val_loss: 0.4084 - val_acc: 0.8046\n",
            "Epoch 34/500\n",
            "41/41 [==============================] - 21s 500ms/step - loss: 0.8394 - acc: 0.6057 - val_loss: 0.4436 - val_acc: 0.7826\n",
            "Epoch 35/500\n",
            "41/41 [==============================] - 20s 498ms/step - loss: 0.8624 - acc: 0.6108 - val_loss: 0.4482 - val_acc: 0.7710\n",
            "Epoch 36/500\n",
            "41/41 [==============================] - 20s 496ms/step - loss: 0.8613 - acc: 0.6064 - val_loss: 0.4113 - val_acc: 0.8298\n",
            "Epoch 37/500\n",
            "41/41 [==============================] - 20s 499ms/step - loss: 0.8621 - acc: 0.6090 - val_loss: 0.4543 - val_acc: 0.7542\n",
            "Epoch 38/500\n",
            "41/41 [==============================] - 21s 508ms/step - loss: 0.8311 - acc: 0.6184 - val_loss: 0.4464 - val_acc: 0.7931\n",
            "Epoch 39/500\n",
            "41/41 [==============================] - 20s 500ms/step - loss: 0.8716 - acc: 0.6080 - val_loss: 0.4216 - val_acc: 0.7889\n",
            "Epoch 40/500\n",
            "41/41 [==============================] - 22s 533ms/step - loss: 0.8553 - acc: 0.6006 - val_loss: 0.4645 - val_acc: 0.7521\n",
            "Epoch 41/500\n",
            "41/41 [==============================] - 21s 511ms/step - loss: 0.8496 - acc: 0.6054 - val_loss: 0.4237 - val_acc: 0.7931\n",
            "Epoch 42/500\n",
            "41/41 [==============================] - 20s 490ms/step - loss: 0.7882 - acc: 0.6265 - val_loss: 0.4458 - val_acc: 0.7878\n",
            "Epoch 43/500\n",
            "41/41 [==============================] - 20s 489ms/step - loss: 0.8208 - acc: 0.6311 - val_loss: 0.4248 - val_acc: 0.7878\n",
            "Epoch 44/500\n",
            "41/41 [==============================] - 20s 493ms/step - loss: 0.8292 - acc: 0.6220 - val_loss: 0.4307 - val_acc: 0.7962\n",
            "Epoch 45/500\n",
            "41/41 [==============================] - 21s 518ms/step - loss: 0.8129 - acc: 0.6204 - val_loss: 0.4200 - val_acc: 0.7962\n",
            "Epoch 46/500\n",
            "41/41 [==============================] - 20s 482ms/step - loss: 0.8362 - acc: 0.6032 - val_loss: 0.4207 - val_acc: 0.8057\n",
            "Epoch 47/500\n",
            "41/41 [==============================] - 20s 492ms/step - loss: 0.8412 - acc: 0.6085 - val_loss: 0.4435 - val_acc: 0.7763\n",
            "Epoch 48/500\n",
            "41/41 [==============================] - 20s 484ms/step - loss: 0.8014 - acc: 0.6171 - val_loss: 0.4414 - val_acc: 0.7773\n",
            "Epoch 49/500\n",
            "41/41 [==============================] - 21s 511ms/step - loss: 0.8140 - acc: 0.6339 - val_loss: 0.4189 - val_acc: 0.8025\n",
            "Epoch 50/500\n",
            "41/41 [==============================] - 20s 490ms/step - loss: 0.8387 - acc: 0.6103 - val_loss: 0.4316 - val_acc: 0.7868\n",
            "Epoch 51/500\n",
            "41/41 [==============================] - 22s 525ms/step - loss: 0.8115 - acc: 0.6354 - val_loss: 0.4569 - val_acc: 0.7677\n",
            "Epoch 52/500\n",
            "41/41 [==============================] - 21s 521ms/step - loss: 0.7920 - acc: 0.6379 - val_loss: 0.4161 - val_acc: 0.8099\n",
            "Epoch 53/500\n",
            "41/41 [==============================] - 21s 517ms/step - loss: 0.8149 - acc: 0.6141 - val_loss: 0.4864 - val_acc: 0.7416\n",
            "Epoch 54/500\n",
            "41/41 [==============================] - 22s 536ms/step - loss: 0.8150 - acc: 0.6123 - val_loss: 0.4275 - val_acc: 0.7952\n",
            "Epoch 55/500\n",
            "41/41 [==============================] - 20s 486ms/step - loss: 0.7856 - acc: 0.6336 - val_loss: 0.4134 - val_acc: 0.8277\n",
            "Epoch 56/500\n",
            "41/41 [==============================] - 20s 486ms/step - loss: 0.8042 - acc: 0.6316 - val_loss: 0.4457 - val_acc: 0.7752\n",
            "Epoch 57/500\n",
            "41/41 [==============================] - 20s 490ms/step - loss: 0.8267 - acc: 0.6181 - val_loss: 0.4373 - val_acc: 0.8067\n",
            "Epoch 58/500\n",
            "41/41 [==============================] - 20s 490ms/step - loss: 0.8402 - acc: 0.6110 - val_loss: 0.4132 - val_acc: 0.8214\n",
            "Epoch 59/500\n",
            "41/41 [==============================] - 20s 488ms/step - loss: 0.7911 - acc: 0.6265 - val_loss: 0.4532 - val_acc: 0.7731\n",
            "Epoch 60/500\n",
            "41/41 [==============================] - 21s 503ms/step - loss: 0.8020 - acc: 0.6220 - val_loss: 0.4424 - val_acc: 0.7994\n",
            "Epoch 61/500\n",
            "41/41 [==============================] - 20s 490ms/step - loss: 0.8310 - acc: 0.6103 - val_loss: 0.4257 - val_acc: 0.8141\n"
          ]
        },
        {
          "name": "stdout",
          "output_type": "stream",
          "text": [
            "Epoch 62/500\n",
            "41/41 [==============================] - 21s 506ms/step - loss: 0.8356 - acc: 0.6111 - val_loss: 0.4342 - val_acc: 0.8120\n",
            "Epoch 63/500\n",
            "41/41 [==============================] - 22s 535ms/step - loss: 0.7992 - acc: 0.6120 - val_loss: 0.4072 - val_acc: 0.8078\n",
            "Epoch 64/500\n",
            "41/41 [==============================] - 20s 493ms/step - loss: 0.8048 - acc: 0.6202 - val_loss: 0.4242 - val_acc: 0.8246\n",
            "Epoch 65/500\n",
            "41/41 [==============================] - 21s 520ms/step - loss: 0.8479 - acc: 0.6046 - val_loss: 0.4227 - val_acc: 0.7952\n",
            "Epoch 66/500\n",
            "41/41 [==============================] - 21s 501ms/step - loss: 0.8240 - acc: 0.6123 - val_loss: 0.4127 - val_acc: 0.8046\n",
            "Epoch 67/500\n",
            "41/41 [==============================] - 20s 493ms/step - loss: 0.7794 - acc: 0.6207 - val_loss: 0.4456 - val_acc: 0.7857\n",
            "Epoch 68/500\n",
            "41/41 [==============================] - 20s 488ms/step - loss: 0.8596 - acc: 0.6153 - val_loss: 0.4178 - val_acc: 0.8151\n",
            "Epoch 69/500\n",
            "41/41 [==============================] - 21s 524ms/step - loss: 0.7994 - acc: 0.6240 - val_loss: 0.4191 - val_acc: 0.8025\n",
            "Epoch 70/500\n",
            "41/41 [==============================] - 20s 488ms/step - loss: 0.8116 - acc: 0.6189 - val_loss: 0.4291 - val_acc: 0.7910\n",
            "Epoch 71/500\n",
            "41/41 [==============================] - 20s 497ms/step - loss: 0.8194 - acc: 0.6252 - val_loss: 0.4308 - val_acc: 0.7941\n",
            "Epoch 72/500\n",
            "41/41 [==============================] - 20s 487ms/step - loss: 0.8069 - acc: 0.6199 - val_loss: 0.4222 - val_acc: 0.8167\n",
            "Epoch 73/500\n",
            "41/41 [==============================] - 20s 487ms/step - loss: 0.7915 - acc: 0.6202 - val_loss: 0.4142 - val_acc: 0.8256\n",
            "Epoch 74/500\n",
            "41/41 [==============================] - 20s 496ms/step - loss: 0.7950 - acc: 0.6123 - val_loss: 0.4195 - val_acc: 0.8099\n",
            "Epoch 75/500\n",
            "41/41 [==============================] - 21s 508ms/step - loss: 0.8349 - acc: 0.6151 - val_loss: 0.4151 - val_acc: 0.8067\n",
            "Epoch 76/500\n",
            "41/41 [==============================] - 20s 494ms/step - loss: 0.8311 - acc: 0.6062 - val_loss: 0.4255 - val_acc: 0.7962\n",
            "Epoch 77/500\n",
            "41/41 [==============================] - 20s 497ms/step - loss: 0.7976 - acc: 0.6288 - val_loss: 0.4463 - val_acc: 0.8046\n",
            "Epoch 78/500\n",
            "41/41 [==============================] - 21s 507ms/step - loss: 0.7936 - acc: 0.6250 - val_loss: 0.4214 - val_acc: 0.8057\n",
            "Epoch 79/500\n",
            "41/41 [==============================] - 20s 489ms/step - loss: 0.7860 - acc: 0.6359 - val_loss: 0.4101 - val_acc: 0.8256\n",
            "Epoch 80/500\n",
            "41/41 [==============================] - 20s 490ms/step - loss: 0.8108 - acc: 0.6184 - val_loss: 0.4277 - val_acc: 0.8162\n",
            "Epoch 81/500\n",
            "41/41 [==============================] - 21s 508ms/step - loss: 0.8047 - acc: 0.6146 - val_loss: 0.4313 - val_acc: 0.8130\n",
            "Epoch 82/500\n",
            "41/41 [==============================] - 20s 500ms/step - loss: 0.7696 - acc: 0.6339 - val_loss: 0.4058 - val_acc: 0.8309\n",
            "Epoch 83/500\n",
            "41/41 [==============================] - 22s 542ms/step - loss: 0.7966 - acc: 0.6222 - val_loss: 0.4512 - val_acc: 0.7616\n",
            "Epoch 84/500\n",
            "41/41 [==============================] - 22s 529ms/step - loss: 0.8172 - acc: 0.6192 - val_loss: 0.4272 - val_acc: 0.8067\n",
            "Epoch 85/500\n",
            "41/41 [==============================] - 22s 534ms/step - loss: 0.7846 - acc: 0.6377 - val_loss: 0.4201 - val_acc: 0.8088\n",
            "Epoch 86/500\n",
            "41/41 [==============================] - 20s 497ms/step - loss: 0.7848 - acc: 0.6413 - val_loss: 0.4387 - val_acc: 0.8057\n",
            "Epoch 87/500\n",
            "41/41 [==============================] - 21s 513ms/step - loss: 0.7777 - acc: 0.6316 - val_loss: 0.4109 - val_acc: 0.8004\n",
            "Epoch 88/500\n",
            "41/41 [==============================] - 22s 545ms/step - loss: 0.8073 - acc: 0.6108 - val_loss: 0.4306 - val_acc: 0.8141\n",
            "Epoch 89/500\n",
            "41/41 [==============================] - 20s 494ms/step - loss: 0.7700 - acc: 0.6245 - val_loss: 0.4199 - val_acc: 0.8036\n",
            "Epoch 90/500\n",
            "41/41 [==============================] - 20s 485ms/step - loss: 0.8085 - acc: 0.6230 - val_loss: 0.4145 - val_acc: 0.8004\n",
            "Epoch 91/500\n",
            "41/41 [==============================] - 20s 498ms/step - loss: 0.7856 - acc: 0.6318 - val_loss: 0.4204 - val_acc: 0.8214\n",
            "Epoch 92/500\n",
            "41/41 [==============================] - 21s 510ms/step - loss: 0.7544 - acc: 0.6253 - val_loss: 0.4290 - val_acc: 0.7910\n",
            "Epoch 93/500\n",
            "41/41 [==============================] - 20s 494ms/step - loss: 0.7899 - acc: 0.6331 - val_loss: 0.4154 - val_acc: 0.8219\n",
            "Epoch 94/500\n",
            "41/41 [==============================] - 20s 499ms/step - loss: 0.8157 - acc: 0.6131 - val_loss: 0.4288 - val_acc: 0.7941\n",
            "Epoch 95/500\n",
            "41/41 [==============================] - 21s 511ms/step - loss: 0.7953 - acc: 0.6199 - val_loss: 0.4309 - val_acc: 0.8120\n",
            "Epoch 96/500\n",
            "41/41 [==============================] - 20s 488ms/step - loss: 0.7818 - acc: 0.6245 - val_loss: 0.4511 - val_acc: 0.7889\n",
            "Epoch 97/500\n",
            "41/41 [==============================] - 20s 487ms/step - loss: 0.7586 - acc: 0.6405 - val_loss: 0.4337 - val_acc: 0.7994\n",
            "Epoch 98/500\n",
            "41/41 [==============================] - 20s 489ms/step - loss: 0.8097 - acc: 0.6258 - val_loss: 0.4279 - val_acc: 0.7910\n",
            "Epoch 99/500\n",
            "41/41 [==============================] - 22s 528ms/step - loss: 0.8016 - acc: 0.6125 - val_loss: 0.4200 - val_acc: 0.8235\n",
            "Epoch 100/500\n",
            "41/41 [==============================] - 20s 494ms/step - loss: 0.7782 - acc: 0.6273 - val_loss: 0.4344 - val_acc: 0.8141\n",
            "Epoch 101/500\n",
            "41/41 [==============================] - 22s 527ms/step - loss: 0.7538 - acc: 0.6324 - val_loss: 0.4136 - val_acc: 0.8151\n",
            "Epoch 102/500\n",
            "41/41 [==============================] - 20s 494ms/step - loss: 0.8122 - acc: 0.6227 - val_loss: 0.4412 - val_acc: 0.7742\n",
            "Epoch 103/500\n",
            "41/41 [==============================] - 20s 493ms/step - loss: 0.7963 - acc: 0.6128 - val_loss: 0.4283 - val_acc: 0.8183\n",
            "Epoch 104/500\n",
            "41/41 [==============================] - 22s 528ms/step - loss: 0.7655 - acc: 0.6453 - val_loss: 0.3959 - val_acc: 0.8351\n",
            "Epoch 105/500\n",
            "41/41 [==============================] - 20s 487ms/step - loss: 0.7955 - acc: 0.6199 - val_loss: 0.4242 - val_acc: 0.8141\n",
            "Epoch 106/500\n",
            "41/41 [==============================] - 21s 505ms/step - loss: 0.7832 - acc: 0.6290 - val_loss: 0.4080 - val_acc: 0.8277\n",
            "Epoch 107/500\n",
            "41/41 [==============================] - 20s 493ms/step - loss: 0.7543 - acc: 0.6202 - val_loss: 0.4283 - val_acc: 0.8141\n",
            "Epoch 108/500\n",
            "41/41 [==============================] - 21s 504ms/step - loss: 0.7926 - acc: 0.6222 - val_loss: 0.4163 - val_acc: 0.8036\n",
            "Epoch 109/500\n",
            "41/41 [==============================] - 20s 490ms/step - loss: 0.7989 - acc: 0.6270 - val_loss: 0.4287 - val_acc: 0.7983\n",
            "Epoch 110/500\n",
            "41/41 [==============================] - 20s 492ms/step - loss: 0.8014 - acc: 0.6377 - val_loss: 0.4070 - val_acc: 0.8298\n",
            "Epoch 111/500\n",
            "41/41 [==============================] - 20s 491ms/step - loss: 0.7513 - acc: 0.6352 - val_loss: 0.4438 - val_acc: 0.7973\n",
            "Epoch 112/500\n",
            "41/41 [==============================] - 20s 483ms/step - loss: 0.7561 - acc: 0.6278 - val_loss: 0.4272 - val_acc: 0.7941\n",
            "Epoch 113/500\n",
            "41/41 [==============================] - 20s 494ms/step - loss: 0.7326 - acc: 0.6369 - val_loss: 0.4229 - val_acc: 0.8151\n",
            "Epoch 114/500\n",
            "41/41 [==============================] - 21s 500ms/step - loss: 0.8104 - acc: 0.6090 - val_loss: 0.4735 - val_acc: 0.7750\n",
            "Epoch 115/500\n",
            "41/41 [==============================] - 21s 505ms/step - loss: 0.7861 - acc: 0.6057 - val_loss: 0.4191 - val_acc: 0.8225\n",
            "Epoch 116/500\n",
            "41/41 [==============================] - 21s 511ms/step - loss: 0.7409 - acc: 0.6392 - val_loss: 0.4150 - val_acc: 0.8120\n",
            "Epoch 117/500\n",
            "41/41 [==============================] - 21s 501ms/step - loss: 0.7430 - acc: 0.6431 - val_loss: 0.4180 - val_acc: 0.8288\n",
            "Epoch 118/500\n",
            "41/41 [==============================] - 20s 489ms/step - loss: 0.7987 - acc: 0.6248 - val_loss: 0.4223 - val_acc: 0.8015\n",
            "Epoch 119/500\n",
            "41/41 [==============================] - 21s 521ms/step - loss: 0.7837 - acc: 0.6268 - val_loss: 0.4192 - val_acc: 0.7994\n",
            "Epoch 120/500\n",
            "41/41 [==============================] - 21s 502ms/step - loss: 0.7676 - acc: 0.6321 - val_loss: 0.4249 - val_acc: 0.8162\n",
            "Epoch 121/500\n",
            "41/41 [==============================] - 20s 499ms/step - loss: 0.7645 - acc: 0.6245 - val_loss: 0.4076 - val_acc: 0.8099\n",
            "Epoch 122/500\n"
          ]
        },
        {
          "name": "stdout",
          "output_type": "stream",
          "text": [
            "41/41 [==============================] - 21s 503ms/step - loss: 0.7254 - acc: 0.6481 - val_loss: 0.4314 - val_acc: 0.7952\n",
            "Epoch 123/500\n",
            "41/41 [==============================] - 20s 499ms/step - loss: 0.7508 - acc: 0.6316 - val_loss: 0.4024 - val_acc: 0.8246\n",
            "Epoch 124/500\n",
            "41/41 [==============================] - 21s 507ms/step - loss: 0.7789 - acc: 0.6240 - val_loss: 0.4292 - val_acc: 0.8172\n",
            "Epoch 125/500\n",
            "41/41 [==============================] - 20s 498ms/step - loss: 0.7655 - acc: 0.6341 - val_loss: 0.4132 - val_acc: 0.8183\n",
            "Epoch 126/500\n",
            "41/41 [==============================] - 20s 498ms/step - loss: 0.7959 - acc: 0.6093 - val_loss: 0.4338 - val_acc: 0.7983\n",
            "Epoch 127/500\n",
            "41/41 [==============================] - 20s 491ms/step - loss: 0.7755 - acc: 0.6171 - val_loss: 0.4147 - val_acc: 0.8162\n",
            "Epoch 128/500\n",
            "41/41 [==============================] - 21s 510ms/step - loss: 0.7919 - acc: 0.6260 - val_loss: 0.4211 - val_acc: 0.7994\n",
            "Epoch 129/500\n",
            "41/41 [==============================] - 20s 489ms/step - loss: 0.7954 - acc: 0.6156 - val_loss: 0.4196 - val_acc: 0.8235\n",
            "Epoch 130/500\n",
            "41/41 [==============================] - 20s 485ms/step - loss: 0.7695 - acc: 0.6397 - val_loss: 0.4220 - val_acc: 0.8099\n",
            "Epoch 131/500\n",
            "41/41 [==============================] - 20s 486ms/step - loss: 0.7715 - acc: 0.6387 - val_loss: 0.4279 - val_acc: 0.8204\n",
            "Epoch 132/500\n",
            "41/41 [==============================] - 20s 491ms/step - loss: 0.7925 - acc: 0.6098 - val_loss: 0.4106 - val_acc: 0.8172\n",
            "Epoch 133/500\n",
            "41/41 [==============================] - 20s 493ms/step - loss: 0.7600 - acc: 0.6445 - val_loss: 0.4156 - val_acc: 0.8204\n",
            "Epoch 134/500\n",
            "41/41 [==============================] - 20s 483ms/step - loss: 0.7744 - acc: 0.6278 - val_loss: 0.4220 - val_acc: 0.8078\n",
            "Epoch 135/500\n",
            "41/41 [==============================] - 21s 521ms/step - loss: 0.7424 - acc: 0.6298 - val_loss: 0.4561 - val_acc: 0.7937\n",
            "Epoch 136/500\n",
            "41/41 [==============================] - 20s 497ms/step - loss: 0.7905 - acc: 0.6123 - val_loss: 0.4148 - val_acc: 0.8099\n",
            "Epoch 137/500\n",
            "41/41 [==============================] - 20s 481ms/step - loss: 0.7504 - acc: 0.6413 - val_loss: 0.4244 - val_acc: 0.8151\n",
            "Epoch 138/500\n",
            "41/41 [==============================] - 21s 511ms/step - loss: 0.7704 - acc: 0.6372 - val_loss: 0.4204 - val_acc: 0.7994\n",
            "Epoch 139/500\n",
            "41/41 [==============================] - 21s 512ms/step - loss: 0.7346 - acc: 0.6354 - val_loss: 0.4221 - val_acc: 0.8120\n",
            "Epoch 140/500\n",
            "41/41 [==============================] - 20s 489ms/step - loss: 0.7710 - acc: 0.6270 - val_loss: 0.4133 - val_acc: 0.8309\n",
            "Epoch 141/500\n",
            "41/41 [==============================] - 20s 484ms/step - loss: 0.7719 - acc: 0.6288 - val_loss: 0.4212 - val_acc: 0.8204\n",
            "Epoch 142/500\n",
            "41/41 [==============================] - 20s 480ms/step - loss: 0.7496 - acc: 0.6471 - val_loss: 0.4409 - val_acc: 0.7847\n",
            "Epoch 143/500\n",
            "41/41 [==============================] - 23s 552ms/step - loss: 0.7722 - acc: 0.6209 - val_loss: 0.3896 - val_acc: 0.8393\n",
            "Epoch 144/500\n",
            "41/41 [==============================] - 22s 542ms/step - loss: 0.7864 - acc: 0.6166 - val_loss: 0.4498 - val_acc: 0.8004\n",
            "Epoch 145/500\n",
            "41/41 [==============================] - 20s 497ms/step - loss: 0.7790 - acc: 0.6156 - val_loss: 0.3890 - val_acc: 0.8403\n",
            "Epoch 146/500\n",
            "41/41 [==============================] - 21s 524ms/step - loss: 0.7515 - acc: 0.6565 - val_loss: 0.4400 - val_acc: 0.7889\n",
            "Epoch 147/500\n",
            "41/41 [==============================] - 20s 496ms/step - loss: 0.7634 - acc: 0.6296 - val_loss: 0.4082 - val_acc: 0.8120\n",
            "Epoch 148/500\n",
            "41/41 [==============================] - 22s 536ms/step - loss: 0.7583 - acc: 0.6336 - val_loss: 0.4281 - val_acc: 0.7941\n",
            "Epoch 149/500\n",
            "41/41 [==============================] - 21s 509ms/step - loss: 0.7556 - acc: 0.6243 - val_loss: 0.4194 - val_acc: 0.8246\n",
            "Epoch 150/500\n",
            "41/41 [==============================] - 21s 520ms/step - loss: 0.7757 - acc: 0.6308 - val_loss: 0.4045 - val_acc: 0.8088\n",
            "Epoch 151/500\n",
            "41/41 [==============================] - 20s 495ms/step - loss: 0.7640 - acc: 0.6357 - val_loss: 0.4281 - val_acc: 0.8036\n",
            "Epoch 152/500\n",
            "41/41 [==============================] - 21s 517ms/step - loss: 0.7455 - acc: 0.6250 - val_loss: 0.4379 - val_acc: 0.8109\n",
            "Epoch 153/500\n",
            "41/41 [==============================] - 21s 504ms/step - loss: 0.7543 - acc: 0.6291 - val_loss: 0.4120 - val_acc: 0.8151\n",
            "Epoch 154/500\n",
            "41/41 [==============================] - 21s 508ms/step - loss: 0.7585 - acc: 0.6212 - val_loss: 0.4251 - val_acc: 0.8130\n",
            "Epoch 160/500\n",
            "41/41 [==============================] - 20s 498ms/step - loss: 0.7685 - acc: 0.6342 - val_loss: 0.4097 - val_acc: 0.8277\n",
            "Epoch 161/500\n",
            "41/41 [==============================] - 20s 495ms/step - loss: 0.7377 - acc: 0.6278 - val_loss: 0.4592 - val_acc: 0.7742\n",
            "Epoch 162/500\n",
            "41/41 [==============================] - 21s 507ms/step - loss: 0.7294 - acc: 0.6387 - val_loss: 0.4364 - val_acc: 0.7836\n",
            "Epoch 163/500\n",
            "41/41 [==============================] - 21s 500ms/step - loss: 0.7792 - acc: 0.6240 - val_loss: 0.4290 - val_acc: 0.7941\n",
            "Epoch 164/500\n",
            "41/41 [==============================] - 20s 497ms/step - loss: 0.7286 - acc: 0.6382 - val_loss: 0.4163 - val_acc: 0.8015\n",
            "Epoch 165/500\n",
            "41/41 [==============================] - 20s 489ms/step - loss: 0.7635 - acc: 0.6245 - val_loss: 0.4239 - val_acc: 0.7941\n",
            "Epoch 166/500\n",
            "41/41 [==============================] - 22s 531ms/step - loss: 0.7591 - acc: 0.6314 - val_loss: 0.4160 - val_acc: 0.8015\n",
            "Epoch 167/500\n",
            "41/41 [==============================] - 21s 513ms/step - loss: 0.7293 - acc: 0.6524 - val_loss: 0.4227 - val_acc: 0.8036\n",
            "Epoch 168/500\n",
            "41/41 [==============================] - 21s 508ms/step - loss: 0.7877 - acc: 0.6062 - val_loss: 0.4261 - val_acc: 0.8151\n",
            "Epoch 169/500\n",
            "41/41 [==============================] - 20s 495ms/step - loss: 0.7317 - acc: 0.6402 - val_loss: 0.4221 - val_acc: 0.8057\n",
            "Epoch 170/500\n",
            "41/41 [==============================] - 20s 490ms/step - loss: 0.7438 - acc: 0.6318 - val_loss: 0.4255 - val_acc: 0.8225\n",
            "Epoch 171/500\n",
            "41/41 [==============================] - 20s 498ms/step - loss: 0.7502 - acc: 0.6314 - val_loss: 0.4194 - val_acc: 0.8193\n",
            "Epoch 172/500\n",
            "41/41 [==============================] - 20s 483ms/step - loss: 0.7205 - acc: 0.6560 - val_loss: 0.4304 - val_acc: 0.8025\n",
            "Epoch 173/500\n",
            "41/41 [==============================] - 22s 547ms/step - loss: 0.7100 - acc: 0.6601 - val_loss: 0.4251 - val_acc: 0.8172\n",
            "Epoch 174/500\n",
            "41/41 [==============================] - 21s 512ms/step - loss: 0.7197 - acc: 0.6435 - val_loss: 0.4260 - val_acc: 0.8151\n",
            "Epoch 175/500\n",
            "41/41 [==============================] - 21s 513ms/step - loss: 0.7243 - acc: 0.6535 - val_loss: 0.4378 - val_acc: 0.7931\n",
            "Epoch 176/500\n",
            "41/41 [==============================] - 23s 560ms/step - loss: 0.7423 - acc: 0.6369 - val_loss: 0.4647 - val_acc: 0.7668\n",
            "Epoch 177/500\n",
            "41/41 [==============================] - 21s 518ms/step - loss: 0.7276 - acc: 0.6397 - val_loss: 0.4225 - val_acc: 0.8146\n",
            "Epoch 178/500\n",
            "41/41 [==============================] - 20s 491ms/step - loss: 0.7536 - acc: 0.6471 - val_loss: 0.4431 - val_acc: 0.7868\n",
            "Epoch 179/500\n",
            "41/41 [==============================] - 20s 486ms/step - loss: 0.7413 - acc: 0.6413 - val_loss: 0.4515 - val_acc: 0.7784\n",
            "Epoch 180/500\n",
            "41/41 [==============================] - 21s 524ms/step - loss: 0.7291 - acc: 0.6496 - val_loss: 0.4302 - val_acc: 0.7941\n",
            "Epoch 181/500\n",
            "41/41 [==============================] - 21s 506ms/step - loss: 0.7309 - acc: 0.6328 - val_loss: 0.4229 - val_acc: 0.8141\n",
            "Epoch 182/500\n",
            "41/41 [==============================] - 20s 493ms/step - loss: 0.7410 - acc: 0.6332 - val_loss: 0.4241 - val_acc: 0.8046\n",
            "Epoch 183/500\n",
            "41/41 [==============================] - 20s 489ms/step - loss: 0.7535 - acc: 0.6288 - val_loss: 0.4235 - val_acc: 0.8235\n",
            "Epoch 184/500\n",
            "41/41 [==============================] - 21s 514ms/step - loss: 0.7687 - acc: 0.6258 - val_loss: 0.4350 - val_acc: 0.8025\n",
            "Epoch 185/500\n",
            "41/41 [==============================] - 20s 497ms/step - loss: 0.7070 - acc: 0.6489 - val_loss: 0.4223 - val_acc: 0.8214\n",
            "Epoch 186/500\n",
            "41/41 [==============================] - 21s 508ms/step - loss: 0.7691 - acc: 0.6115 - val_loss: 0.4283 - val_acc: 0.8046\n",
            "Epoch 187/500\n"
          ]
        },
        {
          "name": "stdout",
          "output_type": "stream",
          "text": [
            "41/41 [==============================] - 21s 513ms/step - loss: 0.7218 - acc: 0.6390 - val_loss: 0.4173 - val_acc: 0.8214\n",
            "Epoch 188/500\n",
            "41/41 [==============================] - 20s 490ms/step - loss: 0.7218 - acc: 0.6402 - val_loss: 0.4209 - val_acc: 0.8193\n",
            "Epoch 189/500\n",
            "41/41 [==============================] - 20s 488ms/step - loss: 0.7302 - acc: 0.6471 - val_loss: 0.4363 - val_acc: 0.8036\n",
            "Epoch 190/500\n",
            "41/41 [==============================] - 20s 484ms/step - loss: 0.7646 - acc: 0.6247 - val_loss: 0.4391 - val_acc: 0.7889\n",
            "Epoch 191/500\n",
            "41/41 [==============================] - 20s 497ms/step - loss: 0.7331 - acc: 0.6486 - val_loss: 0.4284 - val_acc: 0.8225\n",
            "Epoch 192/500\n",
            "41/41 [==============================] - 20s 492ms/step - loss: 0.7431 - acc: 0.6359 - val_loss: 0.4424 - val_acc: 0.8015\n",
            "Epoch 193/500\n",
            "41/41 [==============================] - 21s 515ms/step - loss: 0.7553 - acc: 0.6379 - val_loss: 0.4292 - val_acc: 0.8193\n",
            "Epoch 194/500\n",
            "41/41 [==============================] - 20s 488ms/step - loss: 0.7484 - acc: 0.6260 - val_loss: 0.4121 - val_acc: 0.8267\n",
            "Epoch 195/500\n",
            "41/41 [==============================] - 21s 501ms/step - loss: 0.7367 - acc: 0.6347 - val_loss: 0.4321 - val_acc: 0.7962\n",
            "Epoch 196/500\n",
            "41/41 [==============================] - 20s 487ms/step - loss: 0.7192 - acc: 0.6400 - val_loss: 0.4322 - val_acc: 0.8015\n",
            "Epoch 197/500\n",
            "41/41 [==============================] - 20s 484ms/step - loss: 0.7101 - acc: 0.6504 - val_loss: 0.4196 - val_acc: 0.7983\n",
            "Epoch 198/500\n",
            "41/41 [==============================] - 20s 497ms/step - loss: 0.7218 - acc: 0.6235 - val_loss: 0.4289 - val_acc: 0.8146\n",
            "Epoch 199/500\n",
            "41/41 [==============================] - 21s 514ms/step - loss: 0.7236 - acc: 0.6387 - val_loss: 0.4220 - val_acc: 0.8214\n",
            "Epoch 200/500\n",
            "41/41 [==============================] - 21s 513ms/step - loss: 0.7172 - acc: 0.6316 - val_loss: 0.4139 - val_acc: 0.8162\n",
            "Epoch 201/500\n",
            "41/41 [==============================] - 21s 505ms/step - loss: 0.7261 - acc: 0.6364 - val_loss: 0.4333 - val_acc: 0.8151\n",
            "Epoch 202/500\n",
            "41/41 [==============================] - 21s 502ms/step - loss: 0.7122 - acc: 0.6372 - val_loss: 0.4253 - val_acc: 0.8235\n",
            "Epoch 203/500\n",
            "41/41 [==============================] - 20s 493ms/step - loss: 0.7207 - acc: 0.6400 - val_loss: 0.4224 - val_acc: 0.8214\n",
            "Epoch 204/500\n",
            "41/41 [==============================] - 21s 510ms/step - loss: 0.7337 - acc: 0.6433 - val_loss: 0.4253 - val_acc: 0.8151\n",
            "Epoch 205/500\n",
            "41/41 [==============================] - 20s 492ms/step - loss: 0.7371 - acc: 0.6316 - val_loss: 0.4369 - val_acc: 0.8172\n",
            "Epoch 206/500\n",
            "41/41 [==============================] - 21s 512ms/step - loss: 0.7161 - acc: 0.6313 - val_loss: 0.4090 - val_acc: 0.8193\n",
            "Epoch 207/500\n",
            "41/41 [==============================] - 20s 488ms/step - loss: 0.7003 - acc: 0.6402 - val_loss: 0.4260 - val_acc: 0.8099\n",
            "Epoch 208/500\n",
            "41/41 [==============================] - 20s 487ms/step - loss: 0.7244 - acc: 0.6372 - val_loss: 0.4096 - val_acc: 0.8099\n",
            "Epoch 209/500\n",
            "41/41 [==============================] - 20s 492ms/step - loss: 0.7126 - acc: 0.6270 - val_loss: 0.4376 - val_acc: 0.8025\n",
            "Epoch 210/500\n",
            "41/41 [==============================] - 20s 498ms/step - loss: 0.7164 - acc: 0.6473 - val_loss: 0.4165 - val_acc: 0.8235\n",
            "Epoch 211/500\n",
            "41/41 [==============================] - 20s 495ms/step - loss: 0.7309 - acc: 0.6367 - val_loss: 0.4229 - val_acc: 0.8151\n",
            "Epoch 212/500\n",
            "41/41 [==============================] - 22s 545ms/step - loss: 0.7137 - acc: 0.6428 - val_loss: 0.4307 - val_acc: 0.8078\n",
            "Epoch 213/500\n",
            "41/41 [==============================] - 20s 494ms/step - loss: 0.7249 - acc: 0.6334 - val_loss: 0.4250 - val_acc: 0.8078\n",
            "Epoch 214/500\n",
            "41/41 [==============================] - 20s 490ms/step - loss: 0.7278 - acc: 0.6288 - val_loss: 0.4118 - val_acc: 0.8151\n",
            "Epoch 215/500\n",
            "41/41 [==============================] - 20s 483ms/step - loss: 0.7125 - acc: 0.6458 - val_loss: 0.4484 - val_acc: 0.7889\n",
            "Epoch 216/500\n",
            "41/41 [==============================] - 22s 534ms/step - loss: 0.7007 - acc: 0.6534 - val_loss: 0.4171 - val_acc: 0.8204\n",
            "Epoch 217/500\n",
            "41/41 [==============================] - 21s 500ms/step - loss: 0.7334 - acc: 0.6329 - val_loss: 0.4184 - val_acc: 0.8204\n",
            "Epoch 218/500\n",
            "41/41 [==============================] - 21s 521ms/step - loss: 0.7152 - acc: 0.6417 - val_loss: 0.4271 - val_acc: 0.8162\n",
            "Epoch 219/500\n",
            "41/41 [==============================] - 20s 497ms/step - loss: 0.7252 - acc: 0.6412 - val_loss: 0.4206 - val_acc: 0.8146\n",
            "Epoch 220/500\n",
            "41/41 [==============================] - 21s 505ms/step - loss: 0.7479 - acc: 0.6303 - val_loss: 0.4153 - val_acc: 0.8183\n",
            "Epoch 221/500\n",
            "41/41 [==============================] - 21s 504ms/step - loss: 0.7255 - acc: 0.6385 - val_loss: 0.4796 - val_acc: 0.7731\n",
            "Epoch 222/500\n",
            "41/41 [==============================] - 21s 501ms/step - loss: 0.7280 - acc: 0.6362 - val_loss: 0.4202 - val_acc: 0.8151\n",
            "Epoch 223/500\n",
            "41/41 [==============================] - 20s 485ms/step - loss: 0.7371 - acc: 0.6267 - val_loss: 0.4015 - val_acc: 0.8235\n",
            "Epoch 224/500\n",
            "41/41 [==============================] - 21s 502ms/step - loss: 0.7146 - acc: 0.6395 - val_loss: 0.4215 - val_acc: 0.8225\n",
            "Epoch 225/500\n",
            "41/41 [==============================] - 20s 485ms/step - loss: 0.7172 - acc: 0.6458 - val_loss: 0.4252 - val_acc: 0.8130\n",
            "Epoch 226/500\n",
            "41/41 [==============================] - 20s 487ms/step - loss: 0.6889 - acc: 0.6486 - val_loss: 0.4183 - val_acc: 0.8078\n",
            "Epoch 227/500\n",
            "41/41 [==============================] - 20s 490ms/step - loss: 0.7487 - acc: 0.6227 - val_loss: 0.4105 - val_acc: 0.8277\n",
            "Epoch 228/500\n",
            "41/41 [==============================] - 21s 522ms/step - loss: 0.7314 - acc: 0.6306 - val_loss: 0.4329 - val_acc: 0.8004\n",
            "Epoch 229/500\n",
            "41/41 [==============================] - 20s 498ms/step - loss: 0.7034 - acc: 0.6506 - val_loss: 0.4351 - val_acc: 0.8151\n",
            "Epoch 230/500\n",
            "41/41 [==============================] - 20s 493ms/step - loss: 0.7062 - acc: 0.6390 - val_loss: 0.4081 - val_acc: 0.8288\n",
            "Epoch 231/500\n",
            "41/41 [==============================] - 22s 534ms/step - loss: 0.7183 - acc: 0.6496 - val_loss: 0.4195 - val_acc: 0.8193\n",
            "Epoch 232/500\n",
            "24/41 [================>.............] - ETA: 6s - loss: 0.7253 - acc: 0.6484"
          ]
        },
        {
          "name": "stderr",
          "output_type": "stream",
          "text": [
            "IOPub message rate exceeded.\n",
            "The notebook server will temporarily stop sending output\n",
            "to the client in order to avoid crashing it.\n",
            "To change this limit, set the config variable\n",
            "`--NotebookApp.iopub_msg_rate_limit`.\n",
            "\n",
            "Current values:\n",
            "NotebookApp.iopub_msg_rate_limit=1000.0 (msgs/sec)\n",
            "NotebookApp.rate_limit_window=3.0 (secs)\n",
            "\n"
          ]
        },
        {
          "name": "stdout",
          "output_type": "stream",
          "text": [
            "41/41 [==============================] - 20s 495ms/step - loss: 0.6846 - acc: 0.6484 - val_loss: 0.4173 - val_acc: 0.8246\n",
            "Epoch 328/500\n",
            "41/41 [==============================] - 21s 500ms/step - loss: 0.6562 - acc: 0.6766 - val_loss: 0.4246 - val_acc: 0.8057\n",
            "Epoch 329/500\n",
            "41/41 [==============================] - 20s 488ms/step - loss: 0.6749 - acc: 0.6626 - val_loss: 0.4116 - val_acc: 0.8256\n",
            "Epoch 330/500\n",
            "41/41 [==============================] - 20s 495ms/step - loss: 0.6712 - acc: 0.6456 - val_loss: 0.4081 - val_acc: 0.8319\n",
            "Epoch 331/500\n",
            "41/41 [==============================] - 20s 488ms/step - loss: 0.6733 - acc: 0.6542 - val_loss: 0.4530 - val_acc: 0.7773\n",
            "Epoch 332/500\n",
            "41/41 [==============================] - 21s 520ms/step - loss: 0.6969 - acc: 0.6387 - val_loss: 0.4014 - val_acc: 0.8424\n",
            "Epoch 333/500\n",
            "41/41 [==============================] - 21s 518ms/step - loss: 0.6760 - acc: 0.6524 - val_loss: 0.4151 - val_acc: 0.8162\n",
            "Epoch 334/500\n",
            "41/41 [==============================] - 20s 489ms/step - loss: 0.6868 - acc: 0.6588 - val_loss: 0.4718 - val_acc: 0.7637\n",
            "Epoch 335/500\n",
            "41/41 [==============================] - 20s 487ms/step - loss: 0.6854 - acc: 0.6489 - val_loss: 0.4196 - val_acc: 0.8036\n",
            "Epoch 336/500\n",
            "41/41 [==============================] - 21s 521ms/step - loss: 0.6833 - acc: 0.6400 - val_loss: 0.4092 - val_acc: 0.8403\n",
            "Epoch 337/500\n",
            "41/41 [==============================] - 21s 503ms/step - loss: 0.6833 - acc: 0.6458 - val_loss: 0.4249 - val_acc: 0.8088\n",
            "Epoch 338/500\n",
            "41/41 [==============================] - 21s 519ms/step - loss: 0.6850 - acc: 0.6313 - val_loss: 0.4011 - val_acc: 0.8340\n",
            "Epoch 339/500\n",
            "41/41 [==============================] - 21s 508ms/step - loss: 0.7129 - acc: 0.6298 - val_loss: 0.4252 - val_acc: 0.8004\n",
            "Epoch 340/500\n",
            "41/41 [==============================] - 20s 494ms/step - loss: 0.7038 - acc: 0.6484 - val_loss: 0.4239 - val_acc: 0.8162\n",
            "Epoch 341/500\n",
            "41/41 [==============================] - 20s 492ms/step - loss: 0.6895 - acc: 0.6479 - val_loss: 0.4050 - val_acc: 0.8330\n",
            "Epoch 342/500\n",
            "41/41 [==============================] - 20s 487ms/step - loss: 0.6982 - acc: 0.6468 - val_loss: 0.4294 - val_acc: 0.8172\n",
            "Epoch 343/500\n",
            "41/41 [==============================] - 20s 487ms/step - loss: 0.6893 - acc: 0.6461 - val_loss: 0.4220 - val_acc: 0.8235\n",
            "Epoch 344/500\n",
            "41/41 [==============================] - 20s 483ms/step - loss: 0.6672 - acc: 0.6506 - val_loss: 0.4195 - val_acc: 0.8183\n",
            "Epoch 345/500\n",
            "41/41 [==============================] - 20s 479ms/step - loss: 0.6715 - acc: 0.6529 - val_loss: 0.4134 - val_acc: 0.8260\n",
            "Epoch 346/500\n",
            "41/41 [==============================] - 20s 495ms/step - loss: 0.6888 - acc: 0.6293 - val_loss: 0.4297 - val_acc: 0.7962\n",
            "Epoch 347/500\n",
            "41/41 [==============================] - 21s 502ms/step - loss: 0.6853 - acc: 0.6517 - val_loss: 0.4286 - val_acc: 0.8078\n",
            "Epoch 348/500\n",
            "41/41 [==============================] - 20s 490ms/step - loss: 0.6904 - acc: 0.6402 - val_loss: 0.4223 - val_acc: 0.7994\n",
            "Epoch 349/500\n",
            "41/41 [==============================] - 20s 489ms/step - loss: 0.6788 - acc: 0.6540 - val_loss: 0.4248 - val_acc: 0.8109\n",
            "Epoch 350/500\n",
            "41/41 [==============================] - 21s 504ms/step - loss: 0.6574 - acc: 0.6580 - val_loss: 0.4179 - val_acc: 0.8246\n",
            "Epoch 351/500\n",
            "41/41 [==============================] - 21s 511ms/step - loss: 0.6646 - acc: 0.6570 - val_loss: 0.4170 - val_acc: 0.8183\n",
            "Epoch 352/500\n",
            "41/41 [==============================] - 20s 493ms/step - loss: 0.6559 - acc: 0.6680 - val_loss: 0.4178 - val_acc: 0.8109\n",
            "Epoch 353/500\n",
            "41/41 [==============================] - 20s 489ms/step - loss: 0.6554 - acc: 0.6697 - val_loss: 0.4353 - val_acc: 0.8130\n",
            "Epoch 354/500\n",
            "41/41 [==============================] - 20s 484ms/step - loss: 0.6889 - acc: 0.6387 - val_loss: 0.4015 - val_acc: 0.8372\n",
            "Epoch 355/500\n",
            "41/41 [==============================] - 20s 482ms/step - loss: 0.6841 - acc: 0.6407 - val_loss: 0.4423 - val_acc: 0.7983\n",
            "Epoch 356/500\n",
            "41/41 [==============================] - 21s 501ms/step - loss: 0.6668 - acc: 0.6524 - val_loss: 0.4052 - val_acc: 0.8204\n",
            "Epoch 357/500\n",
            "41/41 [==============================] - 20s 484ms/step - loss: 0.6678 - acc: 0.6468 - val_loss: 0.4331 - val_acc: 0.8183\n",
            "Epoch 358/500\n",
            "41/41 [==============================] - 20s 492ms/step - loss: 0.6615 - acc: 0.6448 - val_loss: 0.4163 - val_acc: 0.8162\n",
            "Epoch 359/500\n",
            "41/41 [==============================] - 20s 487ms/step - loss: 0.6693 - acc: 0.6580 - val_loss: 0.4356 - val_acc: 0.8025\n",
            "Epoch 360/500\n",
            "41/41 [==============================] - 20s 489ms/step - loss: 0.6873 - acc: 0.6377 - val_loss: 0.4223 - val_acc: 0.8183\n",
            "Epoch 361/500\n",
            "41/41 [==============================] - 20s 490ms/step - loss: 0.6675 - acc: 0.6606 - val_loss: 0.4172 - val_acc: 0.8256\n",
            "Epoch 362/500\n",
            "41/41 [==============================] - 20s 486ms/step - loss: 0.6689 - acc: 0.6443 - val_loss: 0.4086 - val_acc: 0.8351\n",
            "Epoch 363/500\n",
            "41/41 [==============================] - 21s 504ms/step - loss: 0.7004 - acc: 0.6433 - val_loss: 0.4194 - val_acc: 0.8246\n",
            "Epoch 364/500\n",
            "41/41 [==============================] - 20s 483ms/step - loss: 0.6680 - acc: 0.6466 - val_loss: 0.4310 - val_acc: 0.8088\n",
            "Epoch 365/500\n",
            "41/41 [==============================] - 20s 486ms/step - loss: 0.6746 - acc: 0.6512 - val_loss: 0.4157 - val_acc: 0.8214\n",
            "Epoch 366/500\n",
            "41/41 [==============================] - 20s 491ms/step - loss: 0.6626 - acc: 0.6575 - val_loss: 0.4189 - val_acc: 0.8208\n",
            "Epoch 367/500\n",
            "41/41 [==============================] - 22s 547ms/step - loss: 0.6689 - acc: 0.6527 - val_loss: 0.4141 - val_acc: 0.8235\n",
            "Epoch 368/500\n",
            "41/41 [==============================] - 20s 488ms/step - loss: 0.6557 - acc: 0.6611 - val_loss: 0.4223 - val_acc: 0.8067\n",
            "Epoch 369/500\n",
            "41/41 [==============================] - 20s 498ms/step - loss: 0.6779 - acc: 0.6382 - val_loss: 0.4280 - val_acc: 0.8214\n",
            "Epoch 370/500\n",
            "41/41 [==============================] - 21s 512ms/step - loss: 0.6915 - acc: 0.6446 - val_loss: 0.4029 - val_acc: 0.8319\n",
            "Epoch 371/500\n",
            "41/41 [==============================] - 20s 498ms/step - loss: 0.6726 - acc: 0.6519 - val_loss: 0.4252 - val_acc: 0.8099\n",
            "Epoch 372/500\n",
            "41/41 [==============================] - 20s 491ms/step - loss: 0.6616 - acc: 0.6504 - val_loss: 0.4301 - val_acc: 0.8046\n",
            "Epoch 373/500\n",
            "41/41 [==============================] - 21s 511ms/step - loss: 0.6646 - acc: 0.6624 - val_loss: 0.4090 - val_acc: 0.8214\n",
            "Epoch 374/500\n",
            "41/41 [==============================] - 21s 519ms/step - loss: 0.6400 - acc: 0.6692 - val_loss: 0.4341 - val_acc: 0.8067\n",
            "Epoch 375/500\n",
            "41/41 [==============================] - 22s 528ms/step - loss: 0.6790 - acc: 0.6504 - val_loss: 0.4238 - val_acc: 0.8172\n",
            "Epoch 376/500\n",
            "41/41 [==============================] - 20s 484ms/step - loss: 0.6809 - acc: 0.6402 - val_loss: 0.4322 - val_acc: 0.8141\n",
            "Epoch 377/500\n",
            "41/41 [==============================] - 21s 516ms/step - loss: 0.6633 - acc: 0.6565 - val_loss: 0.4290 - val_acc: 0.8162\n",
            "Epoch 378/500\n",
            "41/41 [==============================] - 20s 486ms/step - loss: 0.6783 - acc: 0.6651 - val_loss: 0.4240 - val_acc: 0.8288\n",
            "Epoch 379/500\n",
            "41/41 [==============================] - 21s 514ms/step - loss: 0.6737 - acc: 0.6441 - val_loss: 0.4121 - val_acc: 0.8351\n",
            "Epoch 380/500\n",
            "41/41 [==============================] - 20s 489ms/step - loss: 0.6615 - acc: 0.6557 - val_loss: 0.4161 - val_acc: 0.8319\n",
            "Epoch 381/500\n",
            "41/41 [==============================] - 22s 536ms/step - loss: 0.6722 - acc: 0.6542 - val_loss: 0.4232 - val_acc: 0.8246\n",
            "Epoch 382/500\n",
            "41/41 [==============================] - 22s 538ms/step - loss: 0.6675 - acc: 0.6415 - val_loss: 0.4193 - val_acc: 0.8277\n",
            "Epoch 383/500\n",
            "41/41 [==============================] - 21s 504ms/step - loss: 0.6470 - acc: 0.6438 - val_loss: 0.4147 - val_acc: 0.8309\n",
            "Epoch 384/500\n",
            "41/41 [==============================] - 22s 542ms/step - loss: 0.6774 - acc: 0.6387 - val_loss: 0.4264 - val_acc: 0.8109\n",
            "Epoch 385/500\n",
            "41/41 [==============================] - 21s 518ms/step - loss: 0.6702 - acc: 0.6466 - val_loss: 0.4193 - val_acc: 0.8225\n",
            "Epoch 386/500\n",
            "41/41 [==============================] - 21s 502ms/step - loss: 0.6567 - acc: 0.6588 - val_loss: 0.4185 - val_acc: 0.8361\n",
            "Epoch 387/500\n"
          ]
        },
        {
          "name": "stdout",
          "output_type": "stream",
          "text": [
            "41/41 [==============================] - 20s 491ms/step - loss: 0.6646 - acc: 0.6588 - val_loss: 0.4364 - val_acc: 0.8063\n",
            "Epoch 388/500\n",
            "41/41 [==============================] - 20s 483ms/step - loss: 0.6883 - acc: 0.6362 - val_loss: 0.4197 - val_acc: 0.8214\n",
            "Epoch 389/500\n",
            "41/41 [==============================] - 20s 491ms/step - loss: 0.6381 - acc: 0.6674 - val_loss: 0.4206 - val_acc: 0.8246\n",
            "Epoch 390/500\n",
            "41/41 [==============================] - 20s 488ms/step - loss: 0.6908 - acc: 0.6220 - val_loss: 0.4202 - val_acc: 0.8225\n",
            "Epoch 391/500\n",
            "41/41 [==============================] - 21s 519ms/step - loss: 0.6516 - acc: 0.6552 - val_loss: 0.4231 - val_acc: 0.8204\n",
            "Epoch 392/500\n",
            "41/41 [==============================] - 20s 493ms/step - loss: 0.6519 - acc: 0.6474 - val_loss: 0.4353 - val_acc: 0.8099\n",
            "Epoch 393/500\n",
            "41/41 [==============================] - 20s 489ms/step - loss: 0.6650 - acc: 0.6514 - val_loss: 0.4285 - val_acc: 0.8246\n",
            "Epoch 394/500\n",
            "41/41 [==============================] - 20s 494ms/step - loss: 0.6604 - acc: 0.6654 - val_loss: 0.4281 - val_acc: 0.8141\n",
            "Epoch 395/500\n",
            "41/41 [==============================] - 20s 494ms/step - loss: 0.6595 - acc: 0.6616 - val_loss: 0.4116 - val_acc: 0.8382\n",
            "Epoch 396/500\n",
            "41/41 [==============================] - 21s 508ms/step - loss: 0.6788 - acc: 0.6502 - val_loss: 0.4389 - val_acc: 0.8151\n",
            "Epoch 397/500\n",
            "41/41 [==============================] - 23s 551ms/step - loss: 0.6617 - acc: 0.6572 - val_loss: 0.4151 - val_acc: 0.8267\n",
            "Epoch 398/500\n",
            "41/41 [==============================] - 20s 491ms/step - loss: 0.6475 - acc: 0.6664 - val_loss: 0.4369 - val_acc: 0.7994\n",
            "Epoch 399/500\n",
            "41/41 [==============================] - 21s 519ms/step - loss: 0.6469 - acc: 0.6598 - val_loss: 0.4110 - val_acc: 0.8382\n",
            "Epoch 400/500\n",
            "18/41 [============>.................] - ETA: 6s - loss: 0.6867 - acc: 0.6377"
          ]
        },
        {
          "name": "stderr",
          "output_type": "stream",
          "text": [
            "IOPub message rate exceeded.\n",
            "The notebook server will temporarily stop sending output\n",
            "to the client in order to avoid crashing it.\n",
            "To change this limit, set the config variable\n",
            "`--NotebookApp.iopub_msg_rate_limit`.\n",
            "\n",
            "Current values:\n",
            "NotebookApp.iopub_msg_rate_limit=1000.0 (msgs/sec)\n",
            "NotebookApp.rate_limit_window=3.0 (secs)\n",
            "\n"
          ]
        },
        {
          "name": "stdout",
          "output_type": "stream",
          "text": [
            "41/41 [==============================] - 20s 483ms/step - loss: 0.6200 - acc: 0.6697 - val_loss: 0.4218 - val_acc: 0.8162\n",
            "Epoch 498/500\n",
            "41/41 [==============================] - 20s 486ms/step - loss: 0.6503 - acc: 0.6601 - val_loss: 0.4129 - val_acc: 0.8319\n",
            "Epoch 499/500\n",
            "41/41 [==============================] - 20s 483ms/step - loss: 0.6435 - acc: 0.6501 - val_loss: 0.4363 - val_acc: 0.8067\n",
            "Epoch 500/500\n",
            "41/41 [==============================] - 20s 496ms/step - loss: 0.6288 - acc: 0.6910 - val_loss: 0.4072 - val_acc: 0.8361\n"
          ]
        }
      ],
      "source": [
        "history = model.fit_generator(\n",
        "      train_generator,\n",
        "      steps_per_epoch= NUM_TRAIN //batch_size,\n",
        "      epochs=epochs,\n",
        "      validation_data=validation_generator,\n",
        "      validation_steps= NUM_TEST //batch_size,\n",
        "      verbose=1,\n",
        "      use_multiprocessing=False,\n",
        "      workers=1)"
      ]
    },
    {
      "cell_type": "code",
      "execution_count": null,
      "metadata": {
        "id": "VaZuHY-6ZMvc",
        "outputId": "afe54060-59b4-4d86-91cf-6be10da66344"
      },
      "outputs": [
        {
          "data": {
            "image/png": "[encoded data removed]",
            "text/plain": [
              "<Figure size 432x288 with 1 Axes>"
            ]
          },
          "metadata": {
            "needs_background": "light"
          },
          "output_type": "display_data"
        },
        {
          "data": {
            "image/png": "[encoded data removed]",
            "text/plain": [
              "<Figure size 432x288 with 1 Axes>"
            ]
          },
          "metadata": {
            "needs_background": "light"
          },
          "output_type": "display_data"
        }
      ],
      "source": [
        "acc = history.history['acc']\n",
        "val_acc = history.history['val_acc']\n",
        "loss = history.history['loss']\n",
        "val_loss = history.history['val_loss']\n",
        "\n",
        "epochs_x = range(len(acc))\n",
        "\n",
        "plt.plot(epochs_x, acc, 'bo', label='Training acc')\n",
        "plt.plot(epochs_x, val_acc, 'b', label='Validation acc')\n",
        "plt.title('Training and validation accuracy')\n",
        "plt.legend()\n",
        "\n",
        "plt.figure()\n",
        "\n",
        "plt.plot(epochs_x, loss, 'bo', label='Training loss')\n",
        "plt.plot(epochs_x, val_loss, 'b', label='Validation loss')\n",
        "plt.title('Training and validation loss')\n",
        "plt.legend()\n",
        "\n",
        "plt.show()"
      ]
    },
    {
      "cell_type": "markdown",
      "metadata": {
        "id": "wC0PltSFZMvd"
      },
      "source": [
        "# Finetune model"
      ]
    },
    {
      "cell_type": "code",
      "execution_count": null,
      "metadata": {
        "id": "w1SaFjPPZMvd"
      },
      "outputs": [],
      "source": [
        "# multiply_16\n",
        "# set 'multiply_16' and following layers trainable\n",
        "conv_base.trainable = True\n",
        "\n",
        "set_trainable = False\n",
        "for layer in conv_base.layers:\n",
        "    if layer.name == 'multiply_16':\n",
        "        set_trainable = True\n",
        "    if set_trainable:\n",
        "        layer.trainable = True\n",
        "    else:\n",
        "        layer.trainable = False"
      ]
    },
    {
      "cell_type": "code",
      "execution_count": null,
      "metadata": {
        "id": "kZceEVP9ZMvd",
        "outputId": "999cab3a-2d9e-4bdc-b58a-029aedb0dbf6"
      },
      "outputs": [
        {
          "name": "stderr",
          "output_type": "stream",
          "text": [
            "/home/the/.local/lib/python3.6/site-packages/keras/engine/training_generator.py:47: UserWarning: Using a generator with `use_multiprocessing=True` and multiple workers may duplicate your data. Please consider using the`keras.utils.Sequence class.\n",
            "  UserWarning('Using a generator with `use_multiprocessing=True`'\n"
          ]
        },
        {
          "name": "stdout",
          "output_type": "stream",
          "text": [
            "Epoch 1/20\n",
            "41/41 [==============================] - 31s 750ms/step - loss: 1.3425 - acc: 0.5854 - val_loss: 0.8581 - val_acc: 0.6469\n",
            "Epoch 2/20\n",
            "41/41 [==============================] - 6s 156ms/step - loss: 1.1697 - acc: 0.6275 - val_loss: 0.8129 - val_acc: 0.6990\n",
            "Epoch 3/20\n",
            "41/41 [==============================] - 7s 159ms/step - loss: 1.2167 - acc: 0.6214 - val_loss: 0.8781 - val_acc: 0.6615\n",
            "Epoch 4/20\n",
            "41/41 [==============================] - 6s 157ms/step - loss: 1.1675 - acc: 0.6184 - val_loss: 0.7682 - val_acc: 0.6746\n",
            "Epoch 5/20\n",
            "41/41 [==============================] - 7s 160ms/step - loss: 1.2632 - acc: 0.5950 - val_loss: 0.7381 - val_acc: 0.7240\n",
            "Epoch 6/20\n",
            "41/41 [==============================] - 6s 154ms/step - loss: 1.1380 - acc: 0.6260 - val_loss: 0.6759 - val_acc: 0.7229\n",
            "Epoch 7/20\n",
            "41/41 [==============================] - 7s 159ms/step - loss: 1.1949 - acc: 0.6255 - val_loss: 0.7684 - val_acc: 0.6948\n",
            "Epoch 8/20\n",
            "41/41 [==============================] - 6s 158ms/step - loss: 1.1430 - acc: 0.6433 - val_loss: 0.8205 - val_acc: 0.6811\n",
            "Epoch 9/20\n",
            "41/41 [==============================] - 7s 159ms/step - loss: 1.0830 - acc: 0.6468 - val_loss: 0.7773 - val_acc: 0.7129\n",
            "Epoch 10/20\n",
            "41/41 [==============================] - 6s 151ms/step - loss: 1.1280 - acc: 0.6496 - val_loss: 0.6546 - val_acc: 0.7260\n",
            "Epoch 11/20\n",
            "41/41 [==============================] - 7s 159ms/step - loss: 1.0773 - acc: 0.6514 - val_loss: 0.5908 - val_acc: 0.7490\n",
            "Epoch 12/20\n",
            "41/41 [==============================] - 7s 161ms/step - loss: 1.1255 - acc: 0.6265 - val_loss: 0.7216 - val_acc: 0.7395\n",
            "Epoch 13/20\n",
            "41/41 [==============================] - 6s 158ms/step - loss: 1.0174 - acc: 0.6535 - val_loss: 0.6637 - val_acc: 0.7436\n",
            "Epoch 14/20\n",
            "41/41 [==============================] - 6s 153ms/step - loss: 0.9060 - acc: 0.6902 - val_loss: 0.5567 - val_acc: 0.7781\n",
            "Epoch 15/20\n",
            "41/41 [==============================] - 7s 159ms/step - loss: 1.0472 - acc: 0.6550 - val_loss: 0.5907 - val_acc: 0.7365\n",
            "Epoch 16/20\n",
            "41/41 [==============================] - 6s 156ms/step - loss: 1.0424 - acc: 0.6474 - val_loss: 0.6494 - val_acc: 0.7532\n",
            "Epoch 17/20\n",
            "41/41 [==============================] - 6s 155ms/step - loss: 1.0171 - acc: 0.6524 - val_loss: 0.7472 - val_acc: 0.7222\n",
            "Epoch 18/20\n",
            "41/41 [==============================] - 6s 151ms/step - loss: 1.0395 - acc: 0.6616 - val_loss: 0.6038 - val_acc: 0.7823\n",
            "Epoch 19/20\n",
            "41/41 [==============================] - 6s 154ms/step - loss: 0.9543 - acc: 0.6773 - val_loss: 0.6296 - val_acc: 0.7573\n",
            "Epoch 20/20\n",
            "41/41 [==============================] - 7s 159ms/step - loss: 1.0129 - acc: 0.6662 - val_loss: 0.5240 - val_acc: 0.7885\n"
          ]
        }
      ],
      "source": [
        "model.compile(loss='categorical_crossentropy',\n",
        "              optimizer=optimizers.RMSprop(lr=2e-5),\n",
        "              metrics=['acc'])\n",
        "\n",
        "history = model.fit_generator(\n",
        "      train_generator,\n",
        "      steps_per_epoch= NUM_TRAIN //batch_size,\n",
        "      epochs=epochs,\n",
        "      validation_data=validation_generator,\n",
        "      validation_steps= NUM_TEST //batch_size,\n",
        "      verbose=1,\n",
        "      use_multiprocessing=True,\n",
        "      workers=4)"
      ]
    },
    {
      "cell_type": "code",
      "execution_count": null,
      "metadata": {
        "id": "jEFmXgccZMve",
        "outputId": "2d193209-c78c-4fcd-b0ff-39153a981b42"
      },
      "outputs": [
        {
          "data": {
            "image/png": "[encoded data removed]",
            "text/plain": [
              "<Figure size 432x288 with 1 Axes>"
            ]
          },
          "metadata": {
            "needs_background": "light"
          },
          "output_type": "display_data"
        },
        {
          "data": {
            "image/png": "[encoded data removed]",
            "text/plain": [
              "<Figure size 432x288 with 1 Axes>"
            ]
          },
          "metadata": {
            "needs_background": "light"
          },
          "output_type": "display_data"
        }
      ],
      "source": [
        "acc = history.history['acc']\n",
        "val_acc = history.history['val_acc']\n",
        "loss = history.history['loss']\n",
        "val_loss = history.history['val_loss']\n",
        "\n",
        "epochs_x = range(len(acc))\n",
        "\n",
        "plt.plot(epochs_x, acc, 'bo', label='Training acc')\n",
        "plt.plot(epochs_x, val_acc, 'b', label='Validation acc')\n",
        "plt.title('Training and validation accuracy')\n",
        "plt.legend()\n",
        "\n",
        "plt.figure()\n",
        "\n",
        "plt.plot(epochs_x, loss, 'bo', label='Training loss')\n",
        "plt.plot(epochs_x, val_loss, 'b', label='Validation loss')\n",
        "plt.title('Training and validation loss')\n",
        "plt.legend()\n",
        "\n",
        "plt.show()"
      ]
    },
    {
      "cell_type": "markdown",
      "metadata": {
        "id": "YFUIZm1hZMve"
      },
      "source": [
        "# Try out the model"
      ]
    },
    {
      "cell_type": "code",
      "execution_count": null,
      "metadata": {
        "id": "ItFW8JNRZMve"
      },
      "outputs": [],
      "source": [
        "cat_img = cat_images[-1]\n",
        "dog_img= dog_images[-1]"
      ]
    },
    {
      "cell_type": "code",
      "execution_count": null,
      "metadata": {
        "id": "vZD_ieN7ZMve",
        "outputId": "90dae218-be49-4736-c86e-d6653797417f"
      },
      "outputs": [
        {
          "data": {
            "image/jpeg": "[encoded data removed]",
            "text/plain": [
              "<IPython.core.display.Image object>"
            ]
          },
          "execution_count": 56,
          "metadata": {},
          "output_type": "execute_result"
        }
      ],
      "source": [
        "#loading cat image\n",
        "Image(filename=cat_img)"
      ]
    },
    {
      "cell_type": "code",
      "execution_count": null,
      "metadata": {
        "id": "Ns2A0Aq6ZMve",
        "outputId": "f7304109-9841-41da-c5c0-5b92d7510ee4"
      },
      "outputs": [
        {
          "data": {
            "image/jpeg": "[encoded data removed]",
            "text/plain": [
              "<IPython.core.display.Image object>"
            ]
          },
          "execution_count": 57,
          "metadata": {},
          "output_type": "execute_result"
        }
      ],
      "source": [
        "#loading dog image\n",
        "Image(filename=dog_img)"
      ]
    },
    {
      "cell_type": "code",
      "execution_count": null,
      "metadata": {
        "id": "yQYqIv65ZMvf",
        "outputId": "19ec5098-1646-4d3f-81ad-01ffcf7e7b39"
      },
      "outputs": [
        {
          "name": "stdout",
          "output_type": "stream",
          "text": [
            "('dog', 0.7994580715894699)\n",
            "('dog', 0.9645874388515949)\n"
          ]
        }
      ],
      "source": [
        "from tensorflow.keras.preprocessing import image\n",
        "\n",
        "def predict_image(img_path):\n",
        "    # Read the image and resize it\n",
        "    img = image.load_img(img_path, target_size=(height, width))\n",
        "    # Convert it to a Numpy array with target shape.\n",
        "    x = image.img_to_array(img)\n",
        "    # Reshape\n",
        "    x = x.reshape((1,) + x.shape)\n",
        "    x /= 255.\n",
        "    result = model.predict([x])[0][0]\n",
        "    if result > 0.5:\n",
        "        animal = \"cat\"\n",
        "    else:\n",
        "        animal = \"dog\"\n",
        "        result = 1 - result\n",
        "    return animal,result\n",
        "\n",
        "print(predict_image(cat_img))\n",
        "print(predict_image(dog_img))"
      ]
    }
  ],
  "metadata": {
    "kernelspec": {
      "display_name": "Python 3",
      "language": "python",
      "name": "python3"
    },
    "language_info": {
      "codemirror_mode": {
        "name": "ipython",
        "version": 3
      },
      "file_extension": ".py",
      "mimetype": "text/x-python",
      "name": "python",
      "nbconvert_exporter": "python",
      "pygments_lexer": "ipython3",
      "version": "3.6.8"
    },
    "colab": {
      "name": "CS 722 Machine Learning Project.ipynb",
      "provenance": [],
      "collapsed_sections": []
    }
  },
  "nbformat": 4,
  "nbformat_minor": 0
}